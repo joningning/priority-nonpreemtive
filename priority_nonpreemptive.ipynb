{
 "cells": [
  {
   "cell_type": "markdown",
   "id": "4444f6d2-091b-423b-9d0f-8ea3874c97b4",
   "metadata": {},
   "source": [
    "## Priority Nonpreemtive Scheduling\n",
    "### by Isabel Joy Adriatico, Tricia Jonina B. Alcisto\n",
    "each process is assigned a priority, and the CPU selects the process with the highest priority (usually the smallest priority number) to execute first. Once a process starts executing, it cannot be preempted until it completes."
   ]
  },
  {
   "cell_type": "code",
   "execution_count": 7,
   "id": "8c62ea26-d2e4-4ab7-a025-1dc397466a2e",
   "metadata": {},
   "outputs": [],
   "source": [
    "import matplotlib.pyplot as plt"
   ]
  },
  {
   "cell_type": "markdown",
   "id": "bdc0f8f4-d47b-4ff3-8d39-5e2160de2754",
   "metadata": {},
   "source": [
    "##### The Process class is used to define each process with attributes such as:\n",
    "- pid: The process ID like A, B, C.\n",
    "- arrival_time: The time when the process arrives (i.e., when it’s ready to execute).\n",
    "- burst_time: The total time required by the process to execute (also called CPU burst time).\n",
    "- priority: The priority value of the process (lower values have higher priority).\n",
    "- completion_time, turnaround_time, waiting_time, and start_time: These are placeholders for the metrics we calculate during the scheduling process."
   ]
  },
  {
   "cell_type": "code",
   "execution_count": 8,
   "id": "c42e7611-9b07-4a32-8f9d-12ff882b108c",
   "metadata": {},
   "outputs": [],
   "source": [
    "class Process:\n",
    "    def __init__(self, pid, arrival_time, burst_time, priority):\n",
    "        self.pid = pid\n",
    "        self.arrival_time = arrival_time\n",
    "        self.burst_time = burst_time\n",
    "        self.priority = priority \n",
    "        self.completion_time = 0\n",
    "        self.turnaround_time = 0\n",
    "        self.waiting_time = 0\n",
    "        self.start_time = 0  "
   ]
  },
  {
   "cell_type": "markdown",
   "id": "423a9053-050b-433c-a25a-759a127041a6",
   "metadata": {},
   "source": [
    "##### This class implements the priority nonpreemptive algo\n",
    "- Priority: Each process is assigned a priority, and the process with the highest priority (smallest priority value) will be selected next.\n",
    "- Completion Time: The process starts at the current time and finishes after its burst time.\n",
    "- Waiting Time: The waiting time for each process is calculated as 𝑊𝑇= Start Time − Arrival Time\n",
    "- Turnaround Time: The turnaround time is calculated as Turnaround Time = Completion Time − Arrival Time"
   ]
  },
  {
   "cell_type": "code",
   "execution_count": 9,
   "id": "c4239696-20b1-48bd-83c7-8bf424cf9eb0",
   "metadata": {},
   "outputs": [],
   "source": [
    "def calculate_priority_non_preemptive(processes):\n",
    "    # Sort the processes by arrival time\n",
    "    processes.sort(key=lambda x: x.arrival_time)\n",
    "    \n",
    "    current_time = 0\n",
    "    completed_processes = []\n",
    "    \n",
    "    while processes:\n",
    "        ready_queue = [p for p in processes if p.arrival_time <= current_time]\n",
    "        \n",
    "        if not ready_queue:\n",
    "            current_time = min(processes, key=lambda x: x.arrival_time).arrival_time\n",
    "            ready_queue = [p for p in processes if p.arrival_time <= current_time]\n",
    "        \n",
    "        highest_priority_process = min(ready_queue, key=lambda x: x.priority)\n",
    "        \n",
    "        highest_priority_process.start_time = current_time\n",
    "        current_time = max(current_time, highest_priority_process.arrival_time) + highest_priority_process.burst_time\n",
    "        \n",
    "        highest_priority_process.completion_time = current_time\n",
    "        highest_priority_process.turnaround_time = highest_priority_process.completion_time - highest_priority_process.arrival_time\n",
    "        \n",
    "        highest_priority_process.waiting_time = highest_priority_process.start_time - highest_priority_process.arrival_time\n",
    "        \n",
    "        completed_processes.append(highest_priority_process)\n",
    "        processes.remove(highest_priority_process)\n",
    "    \n",
    "    return completed_processes"
   ]
  },
  {
   "cell_type": "markdown",
   "id": "348d7427-b9df-4df2-929b-749b91e4f906",
   "metadata": {},
   "source": [
    "##### displays a Gantt chart showing the execution timeline of the processes and process summary\n",
    "- Input: The user provides the processes’ arrival times, burst times, and priorities.\n",
    "- Scheduling: The processes are sorted by their arrival times, and each process is scheduled based on its priority (lowest priority number first).\n",
    "- Output: The program outputs a Gantt chart, a detailed process summary, and the average waiting time."
   ]
  },
  {
   "cell_type": "code",
   "execution_count": 10,
   "id": "8ae94f89-2546-43ac-83a4-12154912c493",
   "metadata": {},
   "outputs": [
    {
     "name": "stdin",
     "output_type": "stream",
     "text": [
      "Enter the number of processes:  5\n",
      "Enter arrival time for process A:  0\n",
      "Enter burst time for process A:  8\n",
      "Enter priority for process A (smaller value means higher priority):  2\n",
      "Enter arrival time for process B:  3\n",
      "Enter burst time for process B:  4\n",
      "Enter priority for process B (smaller value means higher priority):  1\n",
      "Enter arrival time for process C:  4\n",
      "Enter burst time for process C:  5\n",
      "Enter priority for process C (smaller value means higher priority):  5\n",
      "Enter arrival time for process D:  6\n",
      "Enter burst time for process D:  3\n",
      "Enter priority for process D (smaller value means higher priority):  3\n",
      "Enter arrival time for process E:  10\n",
      "Enter burst time for process E:  2\n",
      "Enter priority for process E (smaller value means higher priority):  4\n"
     ]
    },
    {
     "data": {
      "image/png": "[encoded data removed]",
      "text/plain": [
       "<Figure size 1000x600 with 1 Axes>"
      ]
     },
     "metadata": {},
     "output_type": "display_data"
    },
    {
     "name": "stdout",
     "output_type": "stream",
     "text": [
      "\n",
      "Process Summary:\n",
      "Process\tArrival Time\tBurst Time\tPriority\tCompletion Time\tTurnaround Time\tWaiting Time\n",
      "A\t0\t\t8\t\t2\t\t8\t\t8\t\t0\n",
      "B\t3\t\t4\t\t1\t\t12\t\t9\t\t5\n",
      "D\t6\t\t3\t\t3\t\t15\t\t9\t\t6\n",
      "E\t10\t\t2\t\t4\t\t17\t\t7\t\t5\n",
      "C\t4\t\t5\t\t5\t\t22\t\t18\t\t13\n",
      "\n",
      "Average Waiting Time: 5.80 ms\n"
     ]
    }
   ],
   "source": [
    "def display_gantt_chart(processes):\n",
    "    start_times = []\n",
    "    process_names = []\n",
    "    for process in processes:\n",
    "        start_times.append(process.start_time)\n",
    "        process_names.append(process.pid)\n",
    "    \n",
    "    plt.figure(figsize=(10, 6))\n",
    "    plt.barh(process_names, [p.burst_time for p in processes], left=start_times, color='lightgreen', edgecolor='black')\n",
    "    plt.xlabel(\"Time\")\n",
    "    plt.ylabel(\"Processes\")\n",
    "    plt.title(\"priority nonpreemptive scheduling\")\n",
    "    plt.grid(axis='x')\n",
    "    \n",
    "    for i, process in enumerate(processes):\n",
    "        plt.text(start_times[i] + process.burst_time / 2, i, str(start_times[i]), ha='center', va='center', color='black')\n",
    "    \n",
    "    plt.show()\n",
    "\n",
    "def print_process_summary(processes):\n",
    "    print(\"\\nProcess Summary:\")\n",
    "    print(\"Process\\tArrival Time\\tBurst Time\\tPriority\\tCompletion Time\\tTurnaround Time\\tWaiting Time\")\n",
    "    for process in processes:\n",
    "        print(f\"{process.pid}\\t{process.arrival_time}\\t\\t{process.burst_time}\\t\\t{process.priority}\\t\\t{process.completion_time}\\t\\t{process.turnaround_time}\\t\\t{process.waiting_time}\")\n",
    "\n",
    "def calculate_average_waiting_time(processes):\n",
    "    total_waiting_time = sum(process.waiting_time for process in processes)\n",
    "    average_waiting_time = total_waiting_time / len(processes)\n",
    "    return average_waiting_time\n",
    "\n",
    "def main():\n",
    "    processes = []\n",
    "    n = int(input(\"Enter the number of processes: \"))\n",
    "    \n",
    "    for i in range(n):\n",
    "        pid = chr(65 + i)  # Process IDs as A, B, C, ...\n",
    "        arrival_time = int(input(f\"Enter arrival time for process {pid}: \"))\n",
    "        burst_time = int(input(f\"Enter burst time for process {pid}: \"))\n",
    "        priority = int(input(f\"Enter priority for process {pid} (smaller value means higher priority): \"))\n",
    "        processes.append(Process(pid, arrival_time, burst_time, priority))\n",
    "\n",
    "    completed_processes = calculate_priority_non_preemptive(processes)\n",
    "    display_gantt_chart(completed_processes)\n",
    "    print_process_summary(completed_processes)\n",
    "\n",
    "    avg_waiting_time = calculate_average_waiting_time(completed_processes)\n",
    "    print(f\"\\nAverage Waiting Time: {avg_waiting_time:.2f} ms\")\n",
    "\n",
    "if __name__ == \"__main__\":\n",
    "    main()"
   ]
  },
  {
   "cell_type": "code",
   "execution_count": null,
   "id": "ee12ce3d-1b71-422c-908a-a632a10578e4",
   "metadata": {},
   "outputs": [],
   "source": []
  }
 ],
 "metadata": {
  "kernelspec": {
   "display_name": "Python 3 (ipykernel)",
   "language": "python",
   "name": "python3"
  },
  "language_info": {
   "codemirror_mode": {
    "name": "ipython",
    "version": 3
   },
   "file_extension": ".py",
   "mimetype": "text/x-python",
   "name": "python",
   "nbconvert_exporter": "python",
   "pygments_lexer": "ipython3",
   "version": "3.11.5"
  }
 },
 "nbformat": 4,
 "nbformat_minor": 5
}
